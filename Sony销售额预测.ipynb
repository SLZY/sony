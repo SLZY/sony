{
 "cells": [
  {
   "cell_type": "markdown",
   "id": "nutritional-microphone",
   "metadata": {},
   "source": [
    "## 项目说明\n",
    "索尼公司是源自日本的跨国综合企业，以研制电子产品为主要事业，经营领域横跨消费电子产品、专业性电子产品、电子游戏、金融、娱乐等，拥有全世界的品牌知名度。目前在国内，索尼的产品主要覆盖在照相机，摄像机，电视，和智能手机四个主要领域。\n",
    "My Sony俱乐部是索尼官方专为索尼会员设立的会员中心，分注册会员、铜牌会员、银牌会员、金牌会员四个等级，会员可根据会员等级享受不同的会员权益。同时，索尼还为尊敬的索尼会员提供了丰富的线上线下活动以及影像课堂等福利。\n",
    "My Sony会员，共分为注册会员、铜牌会员、银牌会员、金牌会员4个等级。会员的等级由\"成长值\"数值决定，成长值越高，会员等级越高。加入索尼会员可以享受会员尊享价，官方延保以及累积成长等多个激励。用户可以通过索尼中国在线商城，索尼产品，索尼app,微信等渠道注册。\n",
    "## 项目要求\n",
    "1,使用Python建立线性回归模型；\n",
    "2，预测用户的销售额；\n",
    "3，找到对用户购买行为影响较大的因素。\n",
    "## 项目流程\n",
    "数据分析流程：\n",
    "数据概况分析\n",
    "单变量分析\n",
    "相关和可视化分析\n",
    "逻辑回归模型的建立、评估、优化\n",
    "## 数据认识\n",
    "数据包含用户行为信息（交易的时间、店铺、店铺的城市、金额），用户的人口学信息（性别、年龄、结婚与否、是否有小孩等），用户的账号信息（注册渠道、注册时间、会员等级、会员价值等）；\n",
    "本项目选取用户的购买金额作为因变量；用户行为变量、人口学变量、账号变量作为自变量，建立回归模型。"
   ]
  },
  {
   "cell_type": "code",
   "execution_count": 7,
   "id": "appreciated-leave",
   "metadata": {},
   "outputs": [],
   "source": [
    "#导入数据和第三方库\n",
    "import pandas as pd\n",
    "import numpy as np\n",
    "import seaborn as sns\n",
    "import matplotlib.pyplot as plt\n",
    "%matplotlib inline\n",
    "from statsmodels.formula.api import ols\n",
    "from sklearn.linear_model import LinearRegression\n"
   ]
  },
  {
   "cell_type": "code",
   "execution_count": 8,
   "id": "brutal-curve",
   "metadata": {},
   "outputs": [],
   "source": [
    "data=pd.read_csv('C:/Users/GaoYi/jupyter-notebook/sony.csv')"
   ]
  },
  {
   "cell_type": "code",
   "execution_count": 9,
   "id": "wanted-thursday",
   "metadata": {},
   "outputs": [
    {
     "data": {
      "text/html": [
       "<div>\n",
       "<style scoped>\n",
       "    .dataframe tbody tr th:only-of-type {\n",
       "        vertical-align: middle;\n",
       "    }\n",
       "\n",
       "    .dataframe tbody tr th {\n",
       "        vertical-align: top;\n",
       "    }\n",
       "\n",
       "    .dataframe thead th {\n",
       "        text-align: right;\n",
       "    }\n",
       "</style>\n",
       "<table border=\"1\" class=\"dataframe\">\n",
       "  <thead>\n",
       "    <tr style=\"text-align: right;\">\n",
       "      <th></th>\n",
       "      <th>member_id</th>\n",
       "      <th>transaction_date</th>\n",
       "      <th>amount</th>\n",
       "      <th>age</th>\n",
       "      <th>gender</th>\n",
       "      <th>city</th>\n",
       "      <th>channel</th>\n",
       "      <th>registration_date</th>\n",
       "      <th>Member_level</th>\n",
       "      <th>Member_value</th>\n",
       "      <th>Marriage</th>\n",
       "      <th>Have_child</th>\n",
       "    </tr>\n",
       "  </thead>\n",
       "  <tbody>\n",
       "    <tr>\n",
       "      <th>0</th>\n",
       "      <td>30132990738</td>\n",
       "      <td>3/1/2014</td>\n",
       "      <td>447</td>\n",
       "      <td>41.0</td>\n",
       "      <td>W</td>\n",
       "      <td>Nanjing</td>\n",
       "      <td>APP</td>\n",
       "      <td>6/9/2016</td>\n",
       "      <td>Silver</td>\n",
       "      <td>246</td>\n",
       "      <td>Y</td>\n",
       "      <td>Y</td>\n",
       "    </tr>\n",
       "    <tr>\n",
       "      <th>1</th>\n",
       "      <td>30388108493</td>\n",
       "      <td>3/1/2014</td>\n",
       "      <td>1730</td>\n",
       "      <td>41.0</td>\n",
       "      <td>W</td>\n",
       "      <td>Nanjing</td>\n",
       "      <td>APP</td>\n",
       "      <td>6/9/2016</td>\n",
       "      <td>Silver</td>\n",
       "      <td>246</td>\n",
       "      <td>Y</td>\n",
       "      <td>Y</td>\n",
       "    </tr>\n",
       "    <tr>\n",
       "      <th>2</th>\n",
       "      <td>30275342052</td>\n",
       "      <td>3/1/2014</td>\n",
       "      <td>12999</td>\n",
       "      <td>NaN</td>\n",
       "      <td>W</td>\n",
       "      <td>Shanghai</td>\n",
       "      <td>Online</td>\n",
       "      <td>7/9/2016</td>\n",
       "      <td>Silver</td>\n",
       "      <td>224</td>\n",
       "      <td>N</td>\n",
       "      <td>N</td>\n",
       "    </tr>\n",
       "    <tr>\n",
       "      <th>3</th>\n",
       "      <td>30176024140</td>\n",
       "      <td>2/1/2014</td>\n",
       "      <td>23997</td>\n",
       "      <td>22.0</td>\n",
       "      <td>M</td>\n",
       "      <td>Wuhan</td>\n",
       "      <td>Online</td>\n",
       "      <td>12/8/2014</td>\n",
       "      <td>Register</td>\n",
       "      <td>46</td>\n",
       "      <td>N</td>\n",
       "      <td>N</td>\n",
       "    </tr>\n",
       "    <tr>\n",
       "      <th>4</th>\n",
       "      <td>30176024140</td>\n",
       "      <td>2/1/2014</td>\n",
       "      <td>10799</td>\n",
       "      <td>22.0</td>\n",
       "      <td>M</td>\n",
       "      <td>Wuhan</td>\n",
       "      <td>Online</td>\n",
       "      <td>12/8/2014</td>\n",
       "      <td>Register</td>\n",
       "      <td>46</td>\n",
       "      <td>N</td>\n",
       "      <td>N</td>\n",
       "    </tr>\n",
       "    <tr>\n",
       "      <th>...</th>\n",
       "      <td>...</td>\n",
       "      <td>...</td>\n",
       "      <td>...</td>\n",
       "      <td>...</td>\n",
       "      <td>...</td>\n",
       "      <td>...</td>\n",
       "      <td>...</td>\n",
       "      <td>...</td>\n",
       "      <td>...</td>\n",
       "      <td>...</td>\n",
       "      <td>...</td>\n",
       "      <td>...</td>\n",
       "    </tr>\n",
       "    <tr>\n",
       "      <th>22371</th>\n",
       "      <td>50643175008</td>\n",
       "      <td>5/4/2019</td>\n",
       "      <td>14398</td>\n",
       "      <td>42.0</td>\n",
       "      <td>M</td>\n",
       "      <td>Wuhan</td>\n",
       "      <td>Online</td>\n",
       "      <td>28/3/2015</td>\n",
       "      <td>Gold</td>\n",
       "      <td>271</td>\n",
       "      <td>Y</td>\n",
       "      <td>Y</td>\n",
       "    </tr>\n",
       "    <tr>\n",
       "      <th>22372</th>\n",
       "      <td>50760028833</td>\n",
       "      <td>5/4/2019</td>\n",
       "      <td>20394</td>\n",
       "      <td>41.0</td>\n",
       "      <td>W</td>\n",
       "      <td>Beijing</td>\n",
       "      <td>Online</td>\n",
       "      <td>22/12/2015</td>\n",
       "      <td>Bronze</td>\n",
       "      <td>84</td>\n",
       "      <td>Y</td>\n",
       "      <td>Y</td>\n",
       "    </tr>\n",
       "    <tr>\n",
       "      <th>22373</th>\n",
       "      <td>50760028833</td>\n",
       "      <td>5/4/2019</td>\n",
       "      <td>25191</td>\n",
       "      <td>41.0</td>\n",
       "      <td>W</td>\n",
       "      <td>Beijing</td>\n",
       "      <td>Online</td>\n",
       "      <td>22/12/2015</td>\n",
       "      <td>Bronze</td>\n",
       "      <td>84</td>\n",
       "      <td>Y</td>\n",
       "      <td>Y</td>\n",
       "    </tr>\n",
       "    <tr>\n",
       "      <th>22374</th>\n",
       "      <td>50113016960</td>\n",
       "      <td>5/4/2019</td>\n",
       "      <td>13794</td>\n",
       "      <td>44.0</td>\n",
       "      <td>M</td>\n",
       "      <td>Chendu</td>\n",
       "      <td>Online</td>\n",
       "      <td>14/8/2014</td>\n",
       "      <td>Silver</td>\n",
       "      <td>151</td>\n",
       "      <td>Y</td>\n",
       "      <td>Y</td>\n",
       "    </tr>\n",
       "    <tr>\n",
       "      <th>22375</th>\n",
       "      <td>50116954288</td>\n",
       "      <td>5/4/2019</td>\n",
       "      <td>12980</td>\n",
       "      <td>45.0</td>\n",
       "      <td>W</td>\n",
       "      <td>Beijing</td>\n",
       "      <td>APP</td>\n",
       "      <td>20/10/2015</td>\n",
       "      <td>Silver</td>\n",
       "      <td>183</td>\n",
       "      <td>Y</td>\n",
       "      <td>Y</td>\n",
       "    </tr>\n",
       "  </tbody>\n",
       "</table>\n",
       "<p>22376 rows × 12 columns</p>\n",
       "</div>"
      ],
      "text/plain": [
       "         member_id transaction_date  amount   age gender      city channel  \\\n",
       "0      30132990738         3/1/2014     447  41.0      W   Nanjing     APP   \n",
       "1      30388108493         3/1/2014    1730  41.0      W   Nanjing     APP   \n",
       "2      30275342052         3/1/2014   12999   NaN      W  Shanghai  Online   \n",
       "3      30176024140         2/1/2014   23997  22.0      M     Wuhan  Online   \n",
       "4      30176024140         2/1/2014   10799  22.0      M     Wuhan  Online   \n",
       "...            ...              ...     ...   ...    ...       ...     ...   \n",
       "22371  50643175008         5/4/2019   14398  42.0      M     Wuhan  Online   \n",
       "22372  50760028833         5/4/2019   20394  41.0      W   Beijing  Online   \n",
       "22373  50760028833         5/4/2019   25191  41.0      W   Beijing  Online   \n",
       "22374  50113016960         5/4/2019   13794  44.0      M    Chendu  Online   \n",
       "22375  50116954288         5/4/2019   12980  45.0      W   Beijing     APP   \n",
       "\n",
       "      registration_date Member_level  Member_value Marriage Have_child  \n",
       "0              6/9/2016       Silver           246        Y          Y  \n",
       "1              6/9/2016       Silver           246        Y          Y  \n",
       "2              7/9/2016       Silver           224        N          N  \n",
       "3             12/8/2014     Register            46        N          N  \n",
       "4             12/8/2014     Register            46        N          N  \n",
       "...                 ...          ...           ...      ...        ...  \n",
       "22371         28/3/2015         Gold           271        Y          Y  \n",
       "22372        22/12/2015       Bronze            84        Y          Y  \n",
       "22373        22/12/2015       Bronze            84        Y          Y  \n",
       "22374         14/8/2014       Silver           151        Y          Y  \n",
       "22375        20/10/2015       Silver           183        Y          Y  \n",
       "\n",
       "[22376 rows x 12 columns]"
      ]
     },
     "execution_count": 9,
     "metadata": {},
     "output_type": "execute_result"
    }
   ],
   "source": [
    "data"
   ]
  },
  {
   "cell_type": "code",
   "execution_count": 10,
   "id": "central-karaoke",
   "metadata": {},
   "outputs": [
    {
     "data": {
      "text/plain": [
       "member_id               0\n",
       "transaction_date        0\n",
       "amount                  0\n",
       "age                   503\n",
       "gender                  0\n",
       "city                 3084\n",
       "channel                 0\n",
       "registration_date       0\n",
       "Member_level            0\n",
       "Member_value            0\n",
       "Marriage                0\n",
       "Have_child              0\n",
       "dtype: int64"
      ]
     },
     "execution_count": 10,
     "metadata": {},
     "output_type": "execute_result"
    }
   ],
   "source": [
    "data.isnull().sum()\n",
    "# age的空值用中位数填充\n",
    "# city的空值转变为哑变量"
   ]
  },
  {
   "cell_type": "code",
   "execution_count": 11,
   "id": "automated-antenna",
   "metadata": {},
   "outputs": [
    {
     "data": {
      "text/html": [
       "<div>\n",
       "<style scoped>\n",
       "    .dataframe tbody tr th:only-of-type {\n",
       "        vertical-align: middle;\n",
       "    }\n",
       "\n",
       "    .dataframe tbody tr th {\n",
       "        vertical-align: top;\n",
       "    }\n",
       "\n",
       "    .dataframe thead th {\n",
       "        text-align: right;\n",
       "    }\n",
       "</style>\n",
       "<table border=\"1\" class=\"dataframe\">\n",
       "  <thead>\n",
       "    <tr style=\"text-align: right;\">\n",
       "      <th></th>\n",
       "      <th>member_id</th>\n",
       "      <th>amount</th>\n",
       "      <th>age</th>\n",
       "      <th>Member_value</th>\n",
       "    </tr>\n",
       "  </thead>\n",
       "  <tbody>\n",
       "    <tr>\n",
       "      <th>count</th>\n",
       "      <td>2.237600e+04</td>\n",
       "      <td>22376.000000</td>\n",
       "      <td>21873.000000</td>\n",
       "      <td>22376.000000</td>\n",
       "    </tr>\n",
       "    <tr>\n",
       "      <th>mean</th>\n",
       "      <td>4.689750e+10</td>\n",
       "      <td>27250.442528</td>\n",
       "      <td>29.884149</td>\n",
       "      <td>163.826064</td>\n",
       "    </tr>\n",
       "    <tr>\n",
       "      <th>std</th>\n",
       "      <td>7.437712e+09</td>\n",
       "      <td>70511.931648</td>\n",
       "      <td>8.203119</td>\n",
       "      <td>79.119416</td>\n",
       "    </tr>\n",
       "    <tr>\n",
       "      <th>min</th>\n",
       "      <td>3.011950e+10</td>\n",
       "      <td>149.000000</td>\n",
       "      <td>18.000000</td>\n",
       "      <td>10.000000</td>\n",
       "    </tr>\n",
       "    <tr>\n",
       "      <th>25%</th>\n",
       "      <td>5.002295e+10</td>\n",
       "      <td>8999.000000</td>\n",
       "      <td>23.000000</td>\n",
       "      <td>99.000000</td>\n",
       "    </tr>\n",
       "    <tr>\n",
       "      <th>50%</th>\n",
       "      <td>5.008526e+10</td>\n",
       "      <td>14360.000000</td>\n",
       "      <td>28.000000</td>\n",
       "      <td>165.000000</td>\n",
       "    </tr>\n",
       "    <tr>\n",
       "      <th>75%</th>\n",
       "      <td>5.012649e+10</td>\n",
       "      <td>19999.000000</td>\n",
       "      <td>37.000000</td>\n",
       "      <td>231.000000</td>\n",
       "    </tr>\n",
       "    <tr>\n",
       "      <th>max</th>\n",
       "      <td>5.095050e+10</td>\n",
       "      <td>529999.000000</td>\n",
       "      <td>45.000000</td>\n",
       "      <td>300.000000</td>\n",
       "    </tr>\n",
       "  </tbody>\n",
       "</table>\n",
       "</div>"
      ],
      "text/plain": [
       "          member_id         amount           age  Member_value\n",
       "count  2.237600e+04   22376.000000  21873.000000  22376.000000\n",
       "mean   4.689750e+10   27250.442528     29.884149    163.826064\n",
       "std    7.437712e+09   70511.931648      8.203119     79.119416\n",
       "min    3.011950e+10     149.000000     18.000000     10.000000\n",
       "25%    5.002295e+10    8999.000000     23.000000     99.000000\n",
       "50%    5.008526e+10   14360.000000     28.000000    165.000000\n",
       "75%    5.012649e+10   19999.000000     37.000000    231.000000\n",
       "max    5.095050e+10  529999.000000     45.000000    300.000000"
      ]
     },
     "execution_count": 11,
     "metadata": {},
     "output_type": "execute_result"
    }
   ],
   "source": [
    "data.describe()"
   ]
  },
  {
   "cell_type": "code",
   "execution_count": 13,
   "id": "requested-victor",
   "metadata": {
    "scrolled": true
   },
   "outputs": [
    {
     "name": "stdout",
     "output_type": "stream",
     "text": [
      "<class 'pandas.core.frame.DataFrame'>\n",
      "RangeIndex: 22376 entries, 0 to 22375\n",
      "Data columns (total 12 columns):\n",
      " #   Column             Non-Null Count  Dtype  \n",
      "---  ------             --------------  -----  \n",
      " 0   member_id          22376 non-null  int64  \n",
      " 1   transaction_date   22376 non-null  object \n",
      " 2   amount             22376 non-null  int64  \n",
      " 3   age                21873 non-null  float64\n",
      " 4   gender             22376 non-null  object \n",
      " 5   city               19292 non-null  object \n",
      " 6   channel            22376 non-null  object \n",
      " 7   registration_date  22376 non-null  object \n",
      " 8   Member_level       22376 non-null  object \n",
      " 9   Member_value       22376 non-null  int64  \n",
      " 10  Marriage           22376 non-null  object \n",
      " 11  Have_child         22376 non-null  object \n",
      "dtypes: float64(1), int64(3), object(8)\n",
      "memory usage: 2.0+ MB\n"
     ]
    }
   ],
   "source": [
    "data.info()\n",
    "# 类别变量有点多，看能不能转成数值型变量"
   ]
  },
  {
   "cell_type": "code",
   "execution_count": 16,
   "id": "approximate-concern",
   "metadata": {},
   "outputs": [],
   "source": [
    "#将age的缺失值用中位数进行填充\n",
    "data['age']=data['age'].fillna(data['age'].median())\n",
    "#将city的缺失值填充成哑变量，类似于空值\n",
    "data['city']=data['city'].fillna('Unknown')\n"
   ]
  },
  {
   "cell_type": "code",
   "execution_count": 60,
   "id": "textile-alabama",
   "metadata": {},
   "outputs": [],
   "source": [
    "data= data.set_index('member_id')"
   ]
  },
  {
   "cell_type": "code",
   "execution_count": 61,
   "id": "electoral-aquarium",
   "metadata": {},
   "outputs": [],
   "source": [
    "# 将gender的男女转换成男为1，女为0\n",
    "from sklearn.preprocessing import LabelEncoder\n",
    "label_le = LabelEncoder()\n",
    "data['gender'] = label_le.fit_transform(data['gender'])\n",
    "sony = pd.get_dummies(data,drop_first=True)"
   ]
  },
  {
   "cell_type": "code",
   "execution_count": 62,
   "id": "prospective-forest",
   "metadata": {
    "scrolled": false
   },
   "outputs": [
    {
     "name": "stdout",
     "output_type": "stream",
     "text": [
      "<class 'pandas.core.frame.DataFrame'>\n",
      "Int64Index: 22376 entries, 30132990738 to 50116954288\n",
      "Data columns (total 11 columns):\n",
      " #   Column             Non-Null Count  Dtype  \n",
      "---  ------             --------------  -----  \n",
      " 0   transaction_date   22376 non-null  int64  \n",
      " 1   amount             22376 non-null  int64  \n",
      " 2   age                22376 non-null  float64\n",
      " 3   gender             22376 non-null  int64  \n",
      " 4   city               22376 non-null  int64  \n",
      " 5   channel            22376 non-null  int64  \n",
      " 6   registration_date  22376 non-null  int32  \n",
      " 7   Member_level       22376 non-null  int64  \n",
      " 8   Member_value       22376 non-null  int64  \n",
      " 9   Marriage           22376 non-null  int64  \n",
      " 10  Have_child         22376 non-null  int64  \n",
      "dtypes: float64(1), int32(1), int64(9)\n",
      "memory usage: 2.0 MB\n"
     ]
    }
   ],
   "source": [
    "sony.info()"
   ]
  },
  {
   "cell_type": "code",
   "execution_count": 63,
   "id": "approved-colors",
   "metadata": {
    "scrolled": true
   },
   "outputs": [
    {
     "data": {
      "text/html": [
       "<div>\n",
       "<style scoped>\n",
       "    .dataframe tbody tr th:only-of-type {\n",
       "        vertical-align: middle;\n",
       "    }\n",
       "\n",
       "    .dataframe tbody tr th {\n",
       "        vertical-align: top;\n",
       "    }\n",
       "\n",
       "    .dataframe thead th {\n",
       "        text-align: right;\n",
       "    }\n",
       "</style>\n",
       "<table border=\"1\" class=\"dataframe\">\n",
       "  <thead>\n",
       "    <tr style=\"text-align: right;\">\n",
       "      <th></th>\n",
       "      <th>transaction_date</th>\n",
       "      <th>amount</th>\n",
       "      <th>age</th>\n",
       "      <th>gender</th>\n",
       "      <th>city</th>\n",
       "      <th>channel</th>\n",
       "      <th>registration_date</th>\n",
       "      <th>Member_level</th>\n",
       "      <th>Member_value</th>\n",
       "      <th>Marriage</th>\n",
       "      <th>Have_child</th>\n",
       "    </tr>\n",
       "    <tr>\n",
       "      <th>member_id</th>\n",
       "      <th></th>\n",
       "      <th></th>\n",
       "      <th></th>\n",
       "      <th></th>\n",
       "      <th></th>\n",
       "      <th></th>\n",
       "      <th></th>\n",
       "      <th></th>\n",
       "      <th></th>\n",
       "      <th></th>\n",
       "      <th></th>\n",
       "    </tr>\n",
       "  </thead>\n",
       "  <tbody>\n",
       "    <tr>\n",
       "      <th>30132990738</th>\n",
       "      <td>1121</td>\n",
       "      <td>447</td>\n",
       "      <td>41.0</td>\n",
       "      <td>1</td>\n",
       "      <td>3</td>\n",
       "      <td>0</td>\n",
       "      <td>1592</td>\n",
       "      <td>3</td>\n",
       "      <td>246</td>\n",
       "      <td>1</td>\n",
       "      <td>1</td>\n",
       "    </tr>\n",
       "    <tr>\n",
       "      <th>30388108493</th>\n",
       "      <td>1121</td>\n",
       "      <td>1730</td>\n",
       "      <td>41.0</td>\n",
       "      <td>1</td>\n",
       "      <td>3</td>\n",
       "      <td>0</td>\n",
       "      <td>1592</td>\n",
       "      <td>3</td>\n",
       "      <td>246</td>\n",
       "      <td>1</td>\n",
       "      <td>1</td>\n",
       "    </tr>\n",
       "    <tr>\n",
       "      <th>30275342052</th>\n",
       "      <td>1121</td>\n",
       "      <td>12999</td>\n",
       "      <td>28.0</td>\n",
       "      <td>1</td>\n",
       "      <td>4</td>\n",
       "      <td>1</td>\n",
       "      <td>1651</td>\n",
       "      <td>3</td>\n",
       "      <td>224</td>\n",
       "      <td>0</td>\n",
       "      <td>0</td>\n",
       "    </tr>\n",
       "    <tr>\n",
       "      <th>30176024140</th>\n",
       "      <td>560</td>\n",
       "      <td>23997</td>\n",
       "      <td>22.0</td>\n",
       "      <td>0</td>\n",
       "      <td>7</td>\n",
       "      <td>1</td>\n",
       "      <td>221</td>\n",
       "      <td>2</td>\n",
       "      <td>46</td>\n",
       "      <td>0</td>\n",
       "      <td>0</td>\n",
       "    </tr>\n",
       "    <tr>\n",
       "      <th>30176024140</th>\n",
       "      <td>560</td>\n",
       "      <td>10799</td>\n",
       "      <td>22.0</td>\n",
       "      <td>0</td>\n",
       "      <td>7</td>\n",
       "      <td>1</td>\n",
       "      <td>221</td>\n",
       "      <td>2</td>\n",
       "      <td>46</td>\n",
       "      <td>0</td>\n",
       "      <td>0</td>\n",
       "    </tr>\n",
       "  </tbody>\n",
       "</table>\n",
       "</div>"
      ],
      "text/plain": [
       "             transaction_date  amount   age  gender  city  channel  \\\n",
       "member_id                                                            \n",
       "30132990738              1121     447  41.0       1     3        0   \n",
       "30388108493              1121    1730  41.0       1     3        0   \n",
       "30275342052              1121   12999  28.0       1     4        1   \n",
       "30176024140               560   23997  22.0       0     7        1   \n",
       "30176024140               560   10799  22.0       0     7        1   \n",
       "\n",
       "             registration_date  Member_level  Member_value  Marriage  \\\n",
       "member_id                                                              \n",
       "30132990738               1592             3           246         1   \n",
       "30388108493               1592             3           246         1   \n",
       "30275342052               1651             3           224         0   \n",
       "30176024140                221             2            46         0   \n",
       "30176024140                221             2            46         0   \n",
       "\n",
       "             Have_child  \n",
       "member_id                \n",
       "30132990738           1  \n",
       "30388108493           1  \n",
       "30275342052           0  \n",
       "30176024140           0  \n",
       "30176024140           0  "
      ]
     },
     "execution_count": 63,
     "metadata": {},
     "output_type": "execute_result"
    }
   ],
   "source": [
    "sony.head()"
   ]
  },
  {
   "cell_type": "markdown",
   "id": "hispanic-teens",
   "metadata": {},
   "source": [
    "## EDA和数据探索"
   ]
  },
  {
   "cell_type": "code",
   "execution_count": 64,
   "id": "large-milan",
   "metadata": {},
   "outputs": [
    {
     "data": {
      "text/plain": [
       "<AxesSubplot:xlabel='age', ylabel='amount'>"
      ]
     },
     "execution_count": 64,
     "metadata": {},
     "output_type": "execute_result"
    },
    {
     "data": {
      "image/png": "[encoded data removed]",
      "text/plain": [
       "<Figure size 432x288 with 1 Axes>"
      ]
     },
     "metadata": {
      "needs_background": "light"
     },
     "output_type": "display_data"
    }
   ],
   "source": [
    "sns.lineplot(x='age',y='amount',data=sony)\n",
    "# 从下图可以看出，购买金额和年龄的相关性比较弱"
   ]
  },
  {
   "cell_type": "markdown",
   "id": "federal-leone",
   "metadata": {},
   "source": [
    "## 构建模型"
   ]
  },
  {
   "cell_type": "code",
   "execution_count": 66,
   "id": "theoretical-transfer",
   "metadata": {
    "scrolled": true
   },
   "outputs": [
    {
     "data": {
      "text/html": [
       "<div>\n",
       "<style scoped>\n",
       "    .dataframe tbody tr th:only-of-type {\n",
       "        vertical-align: middle;\n",
       "    }\n",
       "\n",
       "    .dataframe tbody tr th {\n",
       "        vertical-align: top;\n",
       "    }\n",
       "\n",
       "    .dataframe thead th {\n",
       "        text-align: right;\n",
       "    }\n",
       "</style>\n",
       "<table border=\"1\" class=\"dataframe\">\n",
       "  <thead>\n",
       "    <tr style=\"text-align: right;\">\n",
       "      <th></th>\n",
       "      <th>amount</th>\n",
       "    </tr>\n",
       "  </thead>\n",
       "  <tbody>\n",
       "    <tr>\n",
       "      <th>amount</th>\n",
       "      <td>1.000000</td>\n",
       "    </tr>\n",
       "    <tr>\n",
       "      <th>Member_level</th>\n",
       "      <td>0.007660</td>\n",
       "    </tr>\n",
       "    <tr>\n",
       "      <th>registration_date</th>\n",
       "      <td>0.004295</td>\n",
       "    </tr>\n",
       "    <tr>\n",
       "      <th>city</th>\n",
       "      <td>0.003207</td>\n",
       "    </tr>\n",
       "    <tr>\n",
       "      <th>gender</th>\n",
       "      <td>0.002783</td>\n",
       "    </tr>\n",
       "    <tr>\n",
       "      <th>Member_value</th>\n",
       "      <td>0.001307</td>\n",
       "    </tr>\n",
       "    <tr>\n",
       "      <th>channel</th>\n",
       "      <td>-0.001316</td>\n",
       "    </tr>\n",
       "    <tr>\n",
       "      <th>Marriage</th>\n",
       "      <td>-0.001925</td>\n",
       "    </tr>\n",
       "    <tr>\n",
       "      <th>age</th>\n",
       "      <td>-0.004071</td>\n",
       "    </tr>\n",
       "    <tr>\n",
       "      <th>transaction_date</th>\n",
       "      <td>-0.004647</td>\n",
       "    </tr>\n",
       "    <tr>\n",
       "      <th>Have_child</th>\n",
       "      <td>-0.006093</td>\n",
       "    </tr>\n",
       "  </tbody>\n",
       "</table>\n",
       "</div>"
      ],
      "text/plain": [
       "                     amount\n",
       "amount             1.000000\n",
       "Member_level       0.007660\n",
       "registration_date  0.004295\n",
       "city               0.003207\n",
       "gender             0.002783\n",
       "Member_value       0.001307\n",
       "channel           -0.001316\n",
       "Marriage          -0.001925\n",
       "age               -0.004071\n",
       "transaction_date  -0.004647\n",
       "Have_child        -0.006093"
      ]
     },
     "execution_count": 66,
     "metadata": {},
     "output_type": "execute_result"
    }
   ],
   "source": [
    "sony.corr()[['amount']].sort_values('amount',ascending=False)"
   ]
  },
  {
   "cell_type": "code",
   "execution_count": 67,
   "id": "residential-farmer",
   "metadata": {},
   "outputs": [
    {
     "data": {
      "text/plain": [
       "<AxesSubplot:>"
      ]
     },
     "execution_count": 67,
     "metadata": {},
     "output_type": "execute_result"
    },
    {
     "data": {
      "image/png": "[encoded data removed]",
      "text/plain": [
       "<Figure size 432x288 with 2 Axes>"
      ]
     },
     "metadata": {
      "needs_background": "light"
     },
     "output_type": "display_data"
    }
   ],
   "source": [
    "#热力图\n",
    "q=['amount','Member_level','registration_date']\n",
    "sns.heatmap(sony[q].corr())"
   ]
  },
  {
   "cell_type": "markdown",
   "id": "exact-bankruptcy",
   "metadata": {},
   "source": [
    "从上可以看出，所选变量和因变量之间相关关系很弱，下面选择Member_level、registration_date、gender、Member_value、Have_child作为自变量，建立多元线性回归模型\n",
    "因变量为amount"
   ]
  },
  {
   "cell_type": "code",
   "execution_count": 68,
   "id": "divine-cattle",
   "metadata": {},
   "outputs": [
    {
     "data": {
      "text/plain": [
       "array([ 4.29639174e+02,  7.87174849e-01,  3.18144296e+02, -1.61025440e+00,\n",
       "       -8.45124881e+02])"
      ]
     },
     "execution_count": 68,
     "metadata": {},
     "output_type": "execute_result"
    }
   ],
   "source": [
    "model=LinearRegression()\n",
    "y = sony['amount']\n",
    "x = sony[['Member_level','registration_date','gender','Member_value','Have_child']]\n",
    "model.fit(x,y) #模型拟合\n",
    "# 查看拟合系数估计值\n",
    "model.coef_"
   ]
  },
  {
   "cell_type": "code",
   "execution_count": 69,
   "id": "quiet-scheduling",
   "metadata": {},
   "outputs": [
    {
     "data": {
      "text/plain": [
       "0.00012554417452903532"
      ]
     },
     "execution_count": 69,
     "metadata": {},
     "output_type": "execute_result"
    }
   ],
   "source": [
    "# 查看截距项，获取标准线性回归结果\n",
    "# 模型评分\n",
    "score = model.score(x,y) \n",
    "score"
   ]
  },
  {
   "cell_type": "code",
   "execution_count": 70,
   "id": "frozen-lyric",
   "metadata": {},
   "outputs": [
    {
     "data": {
      "text/plain": [
       "array([28060.6622331 , 28060.6622331 , 28987.65602707, ...,\n",
       "       26434.35303801, 26904.43897056, 27463.09699466])"
      ]
     },
     "execution_count": 70,
     "metadata": {},
     "output_type": "execute_result"
    }
   ],
   "source": [
    "# 计算y的预测值\n",
    "dictons = model.predict(x)\n",
    "dictons"
   ]
  },
  {
   "cell_type": "code",
   "execution_count": 71,
   "id": "complimentary-knitting",
   "metadata": {},
   "outputs": [],
   "source": [
    "error = dictons - y"
   ]
  },
  {
   "cell_type": "code",
   "execution_count": 72,
   "id": "practical-martin",
   "metadata": {},
   "outputs": [],
   "source": [
    "# 计算均方误差\n",
    "rme = (error**2).mean()**0.5"
   ]
  },
  {
   "cell_type": "code",
   "execution_count": 73,
   "id": "advance-catering",
   "metadata": {},
   "outputs": [],
   "source": [
    "# 计算平均绝对误差\n",
    "mae = abs(error).mean()"
   ]
  },
  {
   "cell_type": "code",
   "execution_count": 74,
   "id": "interested-spell",
   "metadata": {},
   "outputs": [
    {
     "name": "stdout",
     "output_type": "stream",
     "text": [
      "70505.92979390868\n",
      "24953.49088020358\n"
     ]
    }
   ],
   "source": [
    "print(rme)\n",
    "print(mae)"
   ]
  },
  {
   "cell_type": "code",
   "execution_count": 75,
   "id": "falling-former",
   "metadata": {
    "scrolled": true
   },
   "outputs": [
    {
     "name": "stdout",
     "output_type": "stream",
     "text": [
      "                            OLS Regression Results                            \n",
      "==============================================================================\n",
      "Dep. Variable:                      y   R-squared:                       0.000\n",
      "Model:                            OLS   Adj. R-squared:                 -0.000\n",
      "Method:                 Least Squares   F-statistic:                    0.5618\n",
      "Date:                Mon, 22 Mar 2021   Prob (F-statistic):              0.729\n",
      "Time:                        18:27:16   Log-Likelihood:            -2.8154e+05\n",
      "No. Observations:               22376   AIC:                         5.631e+05\n",
      "Df Residuals:                   22370   BIC:                         5.631e+05\n",
      "Df Model:                           5                                         \n",
      "Covariance Type:            nonrobust                                         \n",
      "==============================================================================\n",
      "                 coef    std err          t      P>|t|      [0.025      0.975]\n",
      "------------------------------------------------------------------------------\n",
      "Intercept   2.644e+04   1644.985     16.074      0.000    2.32e+04    2.97e+04\n",
      "x[0]         429.6392    396.295      1.084      0.278    -347.127    1206.405\n",
      "x[1]           0.7872      0.975      0.807      0.420      -1.124       2.699\n",
      "x[2]         318.1443    986.609      0.322      0.747   -1615.678    2251.966\n",
      "x[3]          -1.6103      6.603     -0.244      0.807     -14.553      11.332\n",
      "x[4]        -845.1249    950.162     -0.889      0.374   -2707.509    1017.259\n",
      "==============================================================================\n",
      "Omnibus:                    26253.037   Durbin-Watson:                   1.978\n",
      "Prob(Omnibus):                  0.000   Jarque-Bera (JB):          1893853.091\n",
      "Skew:                           6.508   Prob(JB):                         0.00\n",
      "Kurtosis:                      46.150   Cond. No.                     3.62e+03\n",
      "==============================================================================\n",
      "\n",
      "Notes:\n",
      "[1] Standard Errors assume that the covariance matrix of the errors is correctly specified.\n",
      "[2] The condition number is large, 3.62e+03. This might indicate that there are\n",
      "strong multicollinearity or other numerical problems.\n"
     ]
    }
   ],
   "source": [
    "from statsmodels.formula.api import ols\n",
    "model_ols=ols('y~x',sony).fit()\n",
    "print(model_ols.summary())"
   ]
  },
  {
   "cell_type": "markdown",
   "id": "cubic-railway",
   "metadata": {},
   "source": [
    "结果：amount=2.644e+04+429.6392*ember_level+0.7872*registration_date+318.1443*gender-1.6103*Member_value-845.1249*Have_child"
   ]
  },
  {
   "cell_type": "markdown",
   "id": "periodic-joint",
   "metadata": {},
   "source": []
  },
  {
   "cell_type": "markdown",
   "id": "liquid-marina",
   "metadata": {},
   "source": [
    "三、营销建议\n",
    "1、男性用户在索尼发生购买行为的可能性更高；这可能是男性用户对数码电子产品类的需求比女性高。对应的索尼可能着重于男性新用户的挖掘和老用户的留存；\n",
    "\n",
    "2、有小孩的家庭相较于其他家庭，在索尼的购买金额会降低，有可能是家庭的负担变重，用户的消费能力有所下降，索尼可能对有小孩的家庭提出刺激消费的营销活动；\n",
    "\n",
    "3、老用户是索尼消费军的主力，索尼应该做好老用户的留存，对会员等级高的用户提供积分兑换等奖励机制。"
   ]
  }
 ],
 "metadata": {
  "kernelspec": {
   "display_name": "Python 3",
   "language": "python",
   "name": "python3"
  },
  "language_info": {
   "codemirror_mode": {
    "name": "ipython",
    "version": 3
   },
   "file_extension": ".py",
   "mimetype": "text/x-python",
   "name": "python",
   "nbconvert_exporter": "python",
   "pygments_lexer": "ipython3",
   "version": "3.6.13"
  }
 },
 "nbformat": 4,
 "nbformat_minor": 5
}
